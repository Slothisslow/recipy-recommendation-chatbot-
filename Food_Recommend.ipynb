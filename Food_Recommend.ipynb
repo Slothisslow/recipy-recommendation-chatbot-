{
  "cells": [
    {
      "cell_type": "code",
      "execution_count": null,
      "metadata": {
        "colab": {
          "background_save": true,
          "base_uri": "https://localhost:8080/"
        },
        "id": "gg4bGuBQK5cG",
        "outputId": "80c35065-b289-47c7-c86a-04303f3ff762"
      },
      "outputs": [
        {
          "metadata": {
            "tags": null
          },
          "name": "stdout",
          "output_type": "stream",
          "text": [
            "👩‍🍳 Smart Recipe Chatbot (Veg/Non-Veg Filter)\n",
            "🔍 Top matching recipes:\n",
            "\n",
            "🍽️ Chhena poda (Vegetarian)\n",
            "Ingredients: Sugar, chenna cheese\n",
            "Match Score: 0.62\n",
            "\n",
            "🍽️ Kalakand (Vegetarian)\n",
            "Ingredients: Milk, cottage cheese, sugar\n",
            "Match Score: 0.60\n",
            "\n",
            "🍽️ Shahi paneer (Vegetarian)\n",
            "Ingredients: Cottage cheese, malai, garam masala, ginger, tomato\n",
            "Match Score: 0.44\n",
            "\n",
            "🍽️ Palak paneer (Vegetarian)\n",
            "Ingredients: Cottage cheese, palak, cream, garam masala, butter\n",
            "Match Score: 0.42\n",
            "\n",
            "🍽️ Kadai paneer (Vegetarian)\n",
            "Ingredients: Cottage cheese, bell peppers, gravy, garam masala, cashew nuts\n",
            "Match Score: 0.33\n",
            "\n",
            "🔍 Top matching recipes:\n",
            "\n",
            "🍽️ Bebinca (Vegetarian)\n",
            "Ingredients: Coconut milk, egg yolks, clarified butter, all purpose flour\n",
            "Match Score: 0.43\n",
            "\n",
            "🍽️ Chicken Tikka (Non Vegetarian)\n",
            "Ingredients: Chicken, whole wheat bread, rice flour, garam masala powder, whole egg\n",
            "Match Score: 0.42\n",
            "\n"
          ]
        }
      ],
      "source": [
        "import pandas as pd\n",
        "import numpy as np\n",
        "from sklearn.feature_extraction.text import TfidfVectorizer\n",
        "from sklearn.metrics.pairwise import cosine_similarity\n",
        "\n",
        "# Load and preprocess data\n",
        "df = pd.read_csv(\"indian_food.csv\")\n",
        "\n",
        "def clean_ingredients(text):\n",
        "    if pd.isnull(text):\n",
        "        return \"\"\n",
        "    return \" \".join(str(text).lower().replace(\",\", \" \").split())\n",
        "\n",
        "df[\"ingredients_clean\"] = df[\"ingredients\"].apply(clean_ingredients)\n",
        "df = df[df[\"ingredients_clean\"].str.strip() != \"\"]\n",
        "\n",
        "# TF-IDF Vectorization\n",
        "vectorizer = TfidfVectorizer()\n",
        "tfidf_matrix = vectorizer.fit_transform(df[\"ingredients_clean\"])\n",
        "\n",
        "def tfidf_recipe_chatbot(user_input, diet_preference):\n",
        "    user_input_clean = clean_ingredients(user_input)\n",
        "    if not user_input_clean:\n",
        "        return \"⚠️ Please enter some ingredients to get recipe suggestions.\"\n",
        "\n",
        "    # Handle diet preference\n",
        "    diet_preference = diet_preference.lower()\n",
        "    if diet_preference in ['veg', 'vegetarian']:\n",
        "        mask = df['diet'] == 'vegetarian'\n",
        "    elif diet_preference in ['non-veg', 'non vegetarian', 'nonveg']:\n",
        "        mask = df['diet'] == 'non vegetarian'\n",
        "    else:\n",
        "        mask = pd.Series(True, index=df.index)\n",
        "\n",
        "    valid_indices = np.where(mask)[0]\n",
        "    if not valid_indices.size:\n",
        "        return \"❌ No recipes found for the specified diet.\"\n",
        "\n",
        "    # Transform input and calculate similarities\n",
        "    user_tfidf = vectorizer.transform([user_input_clean])\n",
        "    tfidf_subset = tfidf_matrix[valid_indices]\n",
        "    similarities = cosine_similarity(user_tfidf, tfidf_subset).flatten()\n",
        "\n",
        "    # Get top matches\n",
        "    top_indices = similarities.argsort()[::-1][:5]\n",
        "    top_indices = [i for i in top_indices if similarities[i] > 0]\n",
        "\n",
        "    if not top_indices or similarities[top_indices[0]] < 0.2:\n",
        "        return \"❌ No matches found. Try different ingredients or diet.\"\n",
        "\n",
        "    # Prepare response\n",
        "    response = \"🔍 Top matching recipes:\\n\"\n",
        "    for idx in top_indices:\n",
        "        original_idx = valid_indices[idx]\n",
        "        recipe = df.iloc[original_idx]\n",
        "        response += (\n",
        "            f\"\\n🍽️ {recipe['name']} ({recipe['diet'].title()})\\n\"\n",
        "            f\"Ingredients: {recipe['ingredients']}\\n\"\n",
        "            f\"Match Score: {similarities[idx]:.2f}\\n\"\n",
        "        )\n",
        "\n",
        "    return response\n",
        "\n",
        "# Chat interface\n",
        "print(\"👩‍🍳 Smart Recipe Chatbot (Veg/Non-Veg Filter)\")\n",
        "while True:\n",
        "    ingredients = input(\"\\nEnter ingredients (comma-separated): \").strip()\n",
        "    if ingredients.lower() == 'exit':\n",
        "        print(\"👋 Happy cooking!\")\n",
        "        break\n",
        "\n",
        "    diet = input(\"Diet preference (veg/non-veg/any): \").strip()\n",
        "    print(tfidf_recipe_chatbot(ingredients, diet))\n"
      ]
    }
  ],
  "metadata": {
    "colab": {
      "provenance": []
    },
    "kernelspec": {
      "display_name": "Python 3",
      "name": "python3"
    },
    "language_info": {
      "name": "python"
    }
  },
  "nbformat": 4,
  "nbformat_minor": 0
}